{
 "cells": [
  {
   "cell_type": "markdown",
   "metadata": {},
   "source": [
    "# Assignment Day-6"
   ]
  },
  {
   "cell_type": "markdown",
   "metadata": {},
   "source": [
    "Question 1"
   ]
  },
  {
   "cell_type": "code",
   "execution_count": 6,
   "metadata": {},
   "outputs": [
    {
     "name": "stdout",
     "output_type": "stream",
     "text": [
      "Hello!!! Welcome to the Deposite & Withdrawal Machine\n",
      "hi!! Ashief\n",
      "present balance in your account is  5000\n",
      "Enter the amount to be Deposited: 10000\n",
      "\n",
      " Amount Deposited: 10000.0\n",
      "  \n",
      "present balance in your account is  15000.0\n",
      "  \n",
      "Enter the amount to be Withdrawn: 14000\n",
      "\n",
      " You Withdrew : 14000.0\n",
      "\n",
      " Net Available Balance = 1000.0\n"
     ]
    }
   ],
   "source": [
    "class BankAccount: \n",
    "    def __init__(self,name,balance): \n",
    "        self.name=name\n",
    "        self.balance=balance\n",
    "        print(\"Hello!!! Welcome to the Deposite & Withdrawal Machine\") \n",
    "\n",
    "    def deposit(self): \n",
    "        amount=float(input(\"Enter the amount to be Deposited: \")) \n",
    "        self.balance += amount \n",
    "        print(\"\\n Amount Deposited:\",amount)\n",
    "        print(\"  \")\n",
    "        print(\"present balance in your account is \",self.balance)\n",
    "        print(\"  \")\n",
    "  \n",
    "    def withdraw(self): \n",
    "        amount = float(input(\"Enter the amount to be Withdrawn: \")) \n",
    "        if self.balance>=amount: \n",
    "            self.balance-=amount \n",
    "            print(\"\\n You Withdrew :\", amount) \n",
    "        else: \n",
    "            print(\"\\n Insufficient balance  \") \n",
    "  \n",
    "    def display(self): \n",
    "        print(\"\\n Net Available Balance =\",self.balance) \n",
    "        \n",
    "    def getdet(self):\n",
    "        print(\"hi!!\",self.name)\n",
    "        print(\"present balance in your account is \",self.balance)\n",
    "s =  BankAccount (\"Ashief\",5000)\n",
    "s.getdet()\n",
    "s.deposit() \n",
    "s.withdraw() \n",
    "s.display()"
   ]
  },
  {
   "cell_type": "markdown",
   "metadata": {},
   "source": [
    "Question 2"
   ]
  },
  {
   "cell_type": "code",
   "execution_count": 11,
   "metadata": {},
   "outputs": [
    {
     "name": "stdout",
     "output_type": "stream",
     "text": [
      "\n",
      "Enter the radius of cone : 25\n",
      "\n",
      "Enter the height of cone : 20\n",
      "\n",
      "Volume Of Cone is : 13089.96938995747\n",
      "\n",
      "Surface Area Of Cone is : 3534.2917352885174\n"
     ]
    }
   ],
   "source": [
    "import math\n",
    "\n",
    "pi = math.pi\n",
    "\n",
    "class cone:\n",
    "    \n",
    "    def __init__(self,r,h): \n",
    "\n",
    "        self.r=r\n",
    "        \n",
    "        self.h=h\n",
    "        \n",
    "    def volume(self):\n",
    "        \n",
    "        result = (1 / 3) * pi * self.r * self.r * self.h\n",
    "        \n",
    "        print(\"\\nVolume Of Cone is :\",result)\n",
    "        \n",
    "    def surfacearea(self):\n",
    "        \n",
    "        result = pi * self.r * self.h + pi * self.r * self.r\n",
    "         \n",
    "        print(\"\\nSurface Area Of Cone is :\",result)\n",
    "radius = float(input(\"\\nEnter the radius of cone : \"))\n",
    "\n",
    "height = float(input(\"\\nEnter the height of cone : \"))\n",
    "\n",
    "c = cone( radius, height)\n",
    "\n",
    "c.volume()\n",
    "\n",
    "c.surfacearea()"
   ]
  },
  {
   "cell_type": "code",
   "execution_count": null,
   "metadata": {},
   "outputs": [],
   "source": []
  }
 ],
 "metadata": {
  "kernelspec": {
   "display_name": "Python 3",
   "language": "python",
   "name": "python3"
  },
  "language_info": {
   "codemirror_mode": {
    "name": "ipython",
    "version": 3
   },
   "file_extension": ".py",
   "mimetype": "text/x-python",
   "name": "python",
   "nbconvert_exporter": "python",
   "pygments_lexer": "ipython3",
   "version": "3.8.3"
  }
 },
 "nbformat": 4,
 "nbformat_minor": 4
}
